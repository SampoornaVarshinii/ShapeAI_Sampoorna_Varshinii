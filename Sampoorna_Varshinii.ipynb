{
  "nbformat": 4,
  "nbformat_minor": 0,
  "metadata": {
    "colab": {
      "name": "Sampoorna_Varshinii.ipynb",
      "provenance": []
    },
    "kernelspec": {
      "name": "python3",
      "display_name": "Python 3"
    },
    "language_info": {
      "name": "python"
    }
  },
  "cells": [
    {
      "cell_type": "code",
      "metadata": {
        "colab": {
          "base_uri": "https://localhost:8080/"
        },
        "id": "q4Oqzdp7t5Am",
        "outputId": "bbf5c0ed-8afa-4237-d6bb-b8b59976f501"
      },
      "source": [
        "from keras.datasets import mnist\n",
        "data=mnist.load_data()"
      ],
      "execution_count": null,
      "outputs": [
        {
          "output_type": "stream",
          "text": [
            "Downloading data from https://storage.googleapis.com/tensorflow/tf-keras-datasets/mnist.npz\n",
            "11493376/11490434 [==============================] - 0s 0us/step\n"
          ],
          "name": "stdout"
        }
      ]
    },
    {
      "cell_type": "code",
      "metadata": {
        "id": "zSGpGoQfuN12"
      },
      "source": [
        "(X_train,Y_train),(X_test,Y_test) = mnist.load_data()"
      ],
      "execution_count": null,
      "outputs": []
    },
    {
      "cell_type": "code",
      "metadata": {
        "id": "fseubAzAuj32"
      },
      "source": [
        "X_train=X_train.reshape((X_train.shape[0],28*28)).astype('float32')\n",
        "X_test=X_test.reshape((X_test.shape[0],28*28)).astype('float32')"
      ],
      "execution_count": null,
      "outputs": []
    },
    {
      "cell_type": "code",
      "metadata": {
        "id": "goXIfdE3vibn"
      },
      "source": [
        "X_train = X_train / 255\n",
        "X_test = X_test / 255"
      ],
      "execution_count": null,
      "outputs": []
    },
    {
      "cell_type": "code",
      "metadata": {
        "colab": {
          "base_uri": "https://localhost:8080/"
        },
        "id": "ICWWHcHLvxgw",
        "outputId": "1b1348f2-4b95-457a-be67-7d90fd9e6570"
      },
      "source": [
        "from keras.utils import np_utils\n",
        "\n",
        "print(Y_test.shape)\n",
        "\n",
        "Y_train = np_utils.to_categorical(y_train)\n",
        "Y_test = np_utils.to_categorical(Y_test)\n",
        "\n",
        "num_classes = Y_test.shape[1]\n",
        "print(Y_test.shape)"
      ],
      "execution_count": null,
      "outputs": [
        {
          "output_type": "stream",
          "text": [
            "(10000,)\n",
            "(10000, 10)\n"
          ],
          "name": "stdout"
        }
      ]
    },
    {
      "cell_type": "code",
      "metadata": {
        "id": "KbhEVKMgwk0e"
      },
      "source": [
        "from keras.models import Sequential\n",
        "from keras.layers import Dense"
      ],
      "execution_count": null,
      "outputs": []
    },
    {
      "cell_type": "code",
      "metadata": {
        "id": "3Znt5vTOw_J-"
      },
      "source": [
        "model = Sequential()\n",
        "model.add(Dense(32, input_dim = 28*28, activation='relu'))\n",
        "model.add(Dense(64, activation='relu'))\n",
        "model.add(Dense(10, activation='softmax'))"
      ],
      "execution_count": null,
      "outputs": []
    },
    {
      "cell_type": "code",
      "metadata": {
        "id": "yCtwTe7cxfuW"
      },
      "source": [
        "model.compile(loss='categorical_crossentropy', optimizer='adam', metrics=['accuracy'])"
      ],
      "execution_count": null,
      "outputs": []
    },
    {
      "cell_type": "code",
      "metadata": {
        "colab": {
          "base_uri": "https://localhost:8080/"
        },
        "id": "SAcWMEDvx4VJ",
        "outputId": "6b0cf09e-2781-466e-cf6f-4ee76aff624a"
      },
      "source": [
        "model.summary()"
      ],
      "execution_count": null,
      "outputs": [
        {
          "output_type": "stream",
          "text": [
            "Model: \"sequential\"\n",
            "_________________________________________________________________\n",
            "Layer (type)                 Output Shape              Param #   \n",
            "=================================================================\n",
            "dense (Dense)                (None, 32)                25120     \n",
            "_________________________________________________________________\n",
            "dense_1 (Dense)              (None, 64)                2112      \n",
            "_________________________________________________________________\n",
            "dense_2 (Dense)              (None, 10)                650       \n",
            "=================================================================\n",
            "Total params: 27,882\n",
            "Trainable params: 27,882\n",
            "Non-trainable params: 0\n",
            "_________________________________________________________________\n"
          ],
          "name": "stdout"
        }
      ]
    },
    {
      "cell_type": "code",
      "metadata": {
        "colab": {
          "base_uri": "https://localhost:8080/"
        },
        "id": "YKHJtrm7yA7v",
        "outputId": "a8b5fe5c-dc8b-44ef-ec3b-5763091f05bd"
      },
      "source": [
        "model.fit(X_train,Y_train, epochs=10, batch_size=100)"
      ],
      "execution_count": null,
      "outputs": [
        {
          "output_type": "stream",
          "text": [
            "Epoch 1/10\n",
            "600/600 [==============================] - 2s 2ms/step - loss: 1.9055 - accuracy: 0.4128\n",
            "Epoch 2/10\n",
            "600/600 [==============================] - 1s 2ms/step - loss: 0.7464 - accuracy: 0.7599\n",
            "Epoch 3/10\n",
            "600/600 [==============================] - 1s 2ms/step - loss: 0.5596 - accuracy: 0.8331\n",
            "Epoch 4/10\n",
            "600/600 [==============================] - 1s 2ms/step - loss: 0.4642 - accuracy: 0.8646\n",
            "Epoch 5/10\n",
            "600/600 [==============================] - 1s 2ms/step - loss: 0.4222 - accuracy: 0.8766\n",
            "Epoch 6/10\n",
            "600/600 [==============================] - 1s 2ms/step - loss: 0.3814 - accuracy: 0.8911\n",
            "Epoch 7/10\n",
            "600/600 [==============================] - 1s 2ms/step - loss: 0.3747 - accuracy: 0.8933\n",
            "Epoch 8/10\n",
            "600/600 [==============================] - 1s 2ms/step - loss: 0.3498 - accuracy: 0.9003\n",
            "Epoch 9/10\n",
            "600/600 [==============================] - 1s 2ms/step - loss: 0.3393 - accuracy: 0.9042\n",
            "Epoch 10/10\n",
            "600/600 [==============================] - 1s 2ms/step - loss: 0.3236 - accuracy: 0.9067\n"
          ],
          "name": "stdout"
        },
        {
          "output_type": "execute_result",
          "data": {
            "text/plain": [
              "<tensorflow.python.keras.callbacks.History at 0x7ff07ac4fa10>"
            ]
          },
          "metadata": {
            "tags": []
          },
          "execution_count": 23
        }
      ]
    },
    {
      "cell_type": "code",
      "metadata": {
        "colab": {
          "base_uri": "https://localhost:8080/"
        },
        "id": "8d7irmd8yZaZ",
        "outputId": "783ee3a0-34d9-4470-8b15-0169515ee6f3"
      },
      "source": [
        "scores = model.evaluate(X_test, Y_test)\n",
        "print(scores)"
      ],
      "execution_count": null,
      "outputs": [
        {
          "output_type": "stream",
          "text": [
            "313/313 [==============================] - 0s 885us/step - loss: 0.3099 - accuracy: 0.9096\n",
            "[0.30993539094924927, 0.909600019454956]\n"
          ],
          "name": "stdout"
        }
      ]
    }
  ]
}